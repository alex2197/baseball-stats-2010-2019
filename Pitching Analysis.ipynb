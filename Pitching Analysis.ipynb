{
 "cells": [
  {
   "cell_type": "markdown",
   "metadata": {},
   "source": [
    "# MLB top pitchers Analysis (2010-2019)"
   ]
  },
  {
   "cell_type": "markdown",
   "metadata": {},
   "source": [
    "### all pitchers"
   ]
  },
  {
   "cell_type": "code",
   "execution_count": 2,
   "metadata": {},
   "outputs": [],
   "source": [
    "import os\n",
    "import pandas as pd\n",
    "import matplotlib.pyplot as plt"
   ]
  },
  {
   "cell_type": "markdown",
   "metadata": {},
   "source": [
    "#### Merge data from pitchers"
   ]
  },
  {
   "cell_type": "code",
   "execution_count": 3,
   "metadata": {},
   "outputs": [],
   "source": [
    "path = './Pitching_stats'\n",
    "files= [file for file in os.listdir(path)]\n",
    "\n",
    "all_pitchers_data = pd.DataFrame()\n",
    "\n",
    "for file in files:\n",
    "    current_data = pd.read_csv(path+'/'+file)\n",
    "    all_pitchers_data = pd.concat([all_pitchers_data, current_data])\n",
    "\n",
    "all_pitchers_data.to_csv('all_pitchers_stats.csv', index=False)"
   ]
  },
  {
   "cell_type": "code",
   "execution_count": 4,
   "metadata": {},
   "outputs": [
    {
     "data": {
      "text/html": [
       "<div>\n",
       "<style scoped>\n",
       "    .dataframe tbody tr th:only-of-type {\n",
       "        vertical-align: middle;\n",
       "    }\n",
       "\n",
       "    .dataframe tbody tr th {\n",
       "        vertical-align: top;\n",
       "    }\n",
       "\n",
       "    .dataframe thead th {\n",
       "        text-align: right;\n",
       "    }\n",
       "</style>\n",
       "<table border=\"1\" class=\"dataframe\">\n",
       "  <thead>\n",
       "    <tr style=\"text-align: right;\">\n",
       "      <th></th>\n",
       "      <th>Players</th>\n",
       "      <th>Team</th>\n",
       "      <th>Win</th>\n",
       "      <th>Lost</th>\n",
       "      <th>ERA</th>\n",
       "      <th>Games</th>\n",
       "      <th>GS</th>\n",
       "      <th>CG</th>\n",
       "      <th>SHO</th>\n",
       "      <th>Saves</th>\n",
       "      <th>...</th>\n",
       "      <th>Hits</th>\n",
       "      <th>Runs</th>\n",
       "      <th>ER</th>\n",
       "      <th>HR</th>\n",
       "      <th>HB</th>\n",
       "      <th>BB</th>\n",
       "      <th>SO</th>\n",
       "      <th>WHIP</th>\n",
       "      <th>AVG</th>\n",
       "      <th>Year</th>\n",
       "    </tr>\n",
       "  </thead>\n",
       "  <tbody>\n",
       "    <tr>\n",
       "      <th>0</th>\n",
       "      <td>Pedro Feliciano</td>\n",
       "      <td>NYM</td>\n",
       "      <td>3</td>\n",
       "      <td>6</td>\n",
       "      <td>3.3</td>\n",
       "      <td>92</td>\n",
       "      <td>0</td>\n",
       "      <td>0</td>\n",
       "      <td>0</td>\n",
       "      <td>0</td>\n",
       "      <td>...</td>\n",
       "      <td>66</td>\n",
       "      <td>24</td>\n",
       "      <td>23</td>\n",
       "      <td>1</td>\n",
       "      <td>6</td>\n",
       "      <td>30</td>\n",
       "      <td>56</td>\n",
       "      <td>1.53</td>\n",
       "      <td>0.273</td>\n",
       "      <td>2010</td>\n",
       "    </tr>\n",
       "    <tr>\n",
       "      <th>1</th>\n",
       "      <td>Randy Choate</td>\n",
       "      <td>TB</td>\n",
       "      <td>4</td>\n",
       "      <td>3</td>\n",
       "      <td>4.23</td>\n",
       "      <td>85</td>\n",
       "      <td>0</td>\n",
       "      <td>0</td>\n",
       "      <td>0</td>\n",
       "      <td>0</td>\n",
       "      <td>...</td>\n",
       "      <td>41</td>\n",
       "      <td>23</td>\n",
       "      <td>21</td>\n",
       "      <td>3</td>\n",
       "      <td>3</td>\n",
       "      <td>17</td>\n",
       "      <td>40</td>\n",
       "      <td>1.3</td>\n",
       "      <td>0.252</td>\n",
       "      <td>2010</td>\n",
       "    </tr>\n",
       "    <tr>\n",
       "      <th>2</th>\n",
       "      <td>Peter Moylan</td>\n",
       "      <td>ATL</td>\n",
       "      <td>6</td>\n",
       "      <td>2</td>\n",
       "      <td>2.97</td>\n",
       "      <td>85</td>\n",
       "      <td>0</td>\n",
       "      <td>0</td>\n",
       "      <td>0</td>\n",
       "      <td>1</td>\n",
       "      <td>...</td>\n",
       "      <td>53</td>\n",
       "      <td>24</td>\n",
       "      <td>21</td>\n",
       "      <td>5</td>\n",
       "      <td>2</td>\n",
       "      <td>37</td>\n",
       "      <td>52</td>\n",
       "      <td>1.41</td>\n",
       "      <td>0.236</td>\n",
       "      <td>2010</td>\n",
       "    </tr>\n",
       "    <tr>\n",
       "      <th>3</th>\n",
       "      <td>Nick Masset</td>\n",
       "      <td>CIN</td>\n",
       "      <td>4</td>\n",
       "      <td>4</td>\n",
       "      <td>3.4</td>\n",
       "      <td>82</td>\n",
       "      <td>0</td>\n",
       "      <td>0</td>\n",
       "      <td>0</td>\n",
       "      <td>2</td>\n",
       "      <td>...</td>\n",
       "      <td>64</td>\n",
       "      <td>31</td>\n",
       "      <td>29</td>\n",
       "      <td>7</td>\n",
       "      <td>1</td>\n",
       "      <td>33</td>\n",
       "      <td>85</td>\n",
       "      <td>1.27</td>\n",
       "      <td>0.226</td>\n",
       "      <td>2010</td>\n",
       "    </tr>\n",
       "    <tr>\n",
       "      <th>4</th>\n",
       "      <td>Luke Gregerson</td>\n",
       "      <td>SD</td>\n",
       "      <td>4</td>\n",
       "      <td>7</td>\n",
       "      <td>3.22</td>\n",
       "      <td>80</td>\n",
       "      <td>0</td>\n",
       "      <td>0</td>\n",
       "      <td>0</td>\n",
       "      <td>2</td>\n",
       "      <td>...</td>\n",
       "      <td>47</td>\n",
       "      <td>30</td>\n",
       "      <td>28</td>\n",
       "      <td>8</td>\n",
       "      <td>1</td>\n",
       "      <td>18</td>\n",
       "      <td>89</td>\n",
       "      <td>0.83</td>\n",
       "      <td>0.170</td>\n",
       "      <td>2010</td>\n",
       "    </tr>\n",
       "  </tbody>\n",
       "</table>\n",
       "<p>5 rows × 22 columns</p>\n",
       "</div>"
      ],
      "text/plain": [
       "           Players Team  Win  Lost   ERA  Games  GS  CG  SHO  Saves  ...  \\\n",
       "0  Pedro Feliciano  NYM    3     6   3.3     92   0   0    0      0  ...   \n",
       "1     Randy Choate   TB    4     3  4.23     85   0   0    0      0  ...   \n",
       "2     Peter Moylan  ATL    6     2  2.97     85   0   0    0      1  ...   \n",
       "3      Nick Masset  CIN    4     4   3.4     82   0   0    0      2  ...   \n",
       "4   Luke Gregerson   SD    4     7  3.22     80   0   0    0      2  ...   \n",
       "\n",
       "   Hits  Runs  ER  HR  HB  BB  SO  WHIP    AVG  Year  \n",
       "0    66    24  23   1   6  30  56  1.53  0.273  2010  \n",
       "1    41    23  21   3   3  17  40   1.3  0.252  2010  \n",
       "2    53    24  21   5   2  37  52  1.41  0.236  2010  \n",
       "3    64    31  29   7   1  33  85  1.27  0.226  2010  \n",
       "4    47    30  28   8   1  18  89  0.83  0.170  2010  \n",
       "\n",
       "[5 rows x 22 columns]"
      ]
     },
     "execution_count": 4,
     "metadata": {},
     "output_type": "execute_result"
    }
   ],
   "source": [
    "all_pitchers = pd.read_csv(\"all_pitchers_stats.csv\")\n",
    "all_pitchers.head()"
   ]
  },
  {
   "cell_type": "markdown",
   "metadata": {},
   "source": [
    "#### Task 1: Find the pitcher with the most strikeout"
   ]
  },
  {
   "cell_type": "code",
   "execution_count": 5,
   "metadata": {},
   "outputs": [],
   "source": [
    "all_pitchers_so = all_pitchers.groupby(by = 'Players').sum()['SO']"
   ]
  },
  {
   "cell_type": "code",
   "execution_count": 6,
   "metadata": {},
   "outputs": [],
   "source": [
    "pitchers_mostSO = all_pitchers_so.sort_values(ascending=False)"
   ]
  },
  {
   "cell_type": "code",
   "execution_count": 7,
   "metadata": {},
   "outputs": [
    {
     "data": {
      "text/plain": [
       "Players\n",
       "Max Scherzer        2452\n",
       "Justin Verlander    2260\n",
       "Clayton Kershaw     2179\n",
       "Chris Sale          2007\n",
       "Zack Greinke        1872\n",
       "Name: SO, dtype: int64"
      ]
     },
     "execution_count": 7,
     "metadata": {},
     "output_type": "execute_result"
    }
   ],
   "source": [
    "pitchers_mostSO.head(5)"
   ]
  },
  {
   "cell_type": "markdown",
   "metadata": {},
   "source": [
    "#### Task 2: Find the pitchers with the most saves in every year"
   ]
  },
  {
   "cell_type": "code",
   "execution_count": 8,
   "metadata": {},
   "outputs": [
    {
     "data": {
      "text/plain": [
       "Players        Team\n",
       "Edwin Diaz     SEA     57\n",
       "Wade Davis     COL     43\n",
       "Craig Kimbrel  BOS     42\n",
       "Blake Treinen  OAK     38\n",
       "Kenley Jansen  LAD     38\n",
       "Name: Saves, dtype: int64"
      ]
     },
     "execution_count": 8,
     "metadata": {},
     "output_type": "execute_result"
    }
   ],
   "source": [
    "#Just change the year column for the year that you want to search\n",
    "pitchers_year = all_pitchers[all_pitchers['Year'] == 2018]\n",
    "pitchers_saves_year = pitchers_year.groupby(by = ['Players', 'Team']).sum()['Saves']\n",
    "pitchers_mostsaves_year = pitchers_saves_year.sort_values(ascending=False)\n",
    "pitchers_mostsaves_year.head()"
   ]
  },
  {
   "cell_type": "markdown",
   "metadata": {},
   "source": [
    "#### Task 3: Find the pitchers with the most wins"
   ]
  },
  {
   "cell_type": "code",
   "execution_count": 17,
   "metadata": {},
   "outputs": [
    {
     "data": {
      "text/plain": [
       "Players\n",
       "Max Scherzer        161\n",
       "Justin Verlander    160\n",
       "Clayton Kershaw     156\n",
       "Zack Greinke        155\n",
       "Jon Lester          148\n",
       "Name: Win, dtype: int64"
      ]
     },
     "execution_count": 17,
     "metadata": {},
     "output_type": "execute_result"
    }
   ],
   "source": [
    "all_pitchers_winsgroup = all_pitchers.groupby('Players').sum()['Win']\n",
    "all_pitchers_win = all_pitchers_winsgroup.sort_values(ascending = False)\n",
    "all_pitchers_win.head()"
   ]
  },
  {
   "cell_type": "markdown",
   "metadata": {},
   "source": [
    "#### Task 4: Find the pitchers with the most home runs for the last 10 seasons"
   ]
  },
  {
   "cell_type": "code",
   "execution_count": 21,
   "metadata": {},
   "outputs": [
    {
     "data": {
      "text/html": [
       "<div>\n",
       "<style scoped>\n",
       "    .dataframe tbody tr th:only-of-type {\n",
       "        vertical-align: middle;\n",
       "    }\n",
       "\n",
       "    .dataframe tbody tr th {\n",
       "        vertical-align: top;\n",
       "    }\n",
       "\n",
       "    .dataframe thead th {\n",
       "        text-align: right;\n",
       "    }\n",
       "</style>\n",
       "<table border=\"1\" class=\"dataframe\">\n",
       "  <thead>\n",
       "    <tr style=\"text-align: right;\">\n",
       "      <th></th>\n",
       "      <th>Players</th>\n",
       "      <th>Team</th>\n",
       "      <th>Win</th>\n",
       "      <th>Lost</th>\n",
       "      <th>ERA</th>\n",
       "      <th>Games</th>\n",
       "      <th>GS</th>\n",
       "      <th>CG</th>\n",
       "      <th>SHO</th>\n",
       "      <th>Saves</th>\n",
       "      <th>...</th>\n",
       "      <th>Hits</th>\n",
       "      <th>Runs</th>\n",
       "      <th>ER</th>\n",
       "      <th>HR</th>\n",
       "      <th>HB</th>\n",
       "      <th>BB</th>\n",
       "      <th>SO</th>\n",
       "      <th>WHIP</th>\n",
       "      <th>AVG</th>\n",
       "      <th>Year</th>\n",
       "    </tr>\n",
       "  </thead>\n",
       "  <tbody>\n",
       "    <tr>\n",
       "      <th>1068</th>\n",
       "      <td>Bronson Arroyo</td>\n",
       "      <td>CIN</td>\n",
       "      <td>9</td>\n",
       "      <td>12</td>\n",
       "      <td>5.07</td>\n",
       "      <td>32</td>\n",
       "      <td>32</td>\n",
       "      <td>1</td>\n",
       "      <td>1</td>\n",
       "      <td>0</td>\n",
       "      <td>...</td>\n",
       "      <td>227</td>\n",
       "      <td>119</td>\n",
       "      <td>112</td>\n",
       "      <td>46</td>\n",
       "      <td>6</td>\n",
       "      <td>45</td>\n",
       "      <td>108</td>\n",
       "      <td>1.37</td>\n",
       "      <td>0.286</td>\n",
       "      <td>2011</td>\n",
       "    </tr>\n",
       "    <tr>\n",
       "      <th>6627</th>\n",
       "      <td>Mike Leake</td>\n",
       "      <td>ARI</td>\n",
       "      <td>12</td>\n",
       "      <td>11</td>\n",
       "      <td>4.29</td>\n",
       "      <td>32</td>\n",
       "      <td>32</td>\n",
       "      <td>2</td>\n",
       "      <td>1</td>\n",
       "      <td>0</td>\n",
       "      <td>...</td>\n",
       "      <td>227</td>\n",
       "      <td>114</td>\n",
       "      <td>94</td>\n",
       "      <td>41</td>\n",
       "      <td>10</td>\n",
       "      <td>27</td>\n",
       "      <td>127</td>\n",
       "      <td>1.29</td>\n",
       "      <td>0.286</td>\n",
       "      <td>2019</td>\n",
       "    </tr>\n",
       "    <tr>\n",
       "      <th>5871</th>\n",
       "      <td>Dylan Bundy</td>\n",
       "      <td>BAL</td>\n",
       "      <td>8</td>\n",
       "      <td>16</td>\n",
       "      <td>5.45</td>\n",
       "      <td>31</td>\n",
       "      <td>31</td>\n",
       "      <td>1</td>\n",
       "      <td>0</td>\n",
       "      <td>0</td>\n",
       "      <td>...</td>\n",
       "      <td>188</td>\n",
       "      <td>116</td>\n",
       "      <td>104</td>\n",
       "      <td>41</td>\n",
       "      <td>6</td>\n",
       "      <td>54</td>\n",
       "      <td>184</td>\n",
       "      <td>1.41</td>\n",
       "      <td>0.274</td>\n",
       "      <td>2018</td>\n",
       "    </tr>\n",
       "    <tr>\n",
       "      <th>4381</th>\n",
       "      <td>James Shields</td>\n",
       "      <td>CWS</td>\n",
       "      <td>6</td>\n",
       "      <td>19</td>\n",
       "      <td>5.85</td>\n",
       "      <td>33</td>\n",
       "      <td>33</td>\n",
       "      <td>1</td>\n",
       "      <td>0</td>\n",
       "      <td>0</td>\n",
       "      <td>...</td>\n",
       "      <td>208</td>\n",
       "      <td>122</td>\n",
       "      <td>118</td>\n",
       "      <td>40</td>\n",
       "      <td>8</td>\n",
       "      <td>82</td>\n",
       "      <td>135</td>\n",
       "      <td>1.60</td>\n",
       "      <td>0.288</td>\n",
       "      <td>2016</td>\n",
       "    </tr>\n",
       "    <tr>\n",
       "      <th>6618</th>\n",
       "      <td>Matthew Boyd</td>\n",
       "      <td>DET</td>\n",
       "      <td>9</td>\n",
       "      <td>12</td>\n",
       "      <td>4.56</td>\n",
       "      <td>32</td>\n",
       "      <td>32</td>\n",
       "      <td>0</td>\n",
       "      <td>0</td>\n",
       "      <td>0</td>\n",
       "      <td>...</td>\n",
       "      <td>178</td>\n",
       "      <td>101</td>\n",
       "      <td>94</td>\n",
       "      <td>39</td>\n",
       "      <td>8</td>\n",
       "      <td>50</td>\n",
       "      <td>238</td>\n",
       "      <td>1.23</td>\n",
       "      <td>0.247</td>\n",
       "      <td>2019</td>\n",
       "    </tr>\n",
       "  </tbody>\n",
       "</table>\n",
       "<p>5 rows × 22 columns</p>\n",
       "</div>"
      ],
      "text/plain": [
       "             Players Team  Win  Lost   ERA  Games  GS  CG  SHO  Saves  ...  \\\n",
       "1068  Bronson Arroyo  CIN    9    12  5.07     32  32   1    1      0  ...   \n",
       "6627      Mike Leake  ARI   12    11  4.29     32  32   2    1      0  ...   \n",
       "5871     Dylan Bundy  BAL    8    16  5.45     31  31   1    0      0  ...   \n",
       "4381   James Shields  CWS    6    19  5.85     33  33   1    0      0  ...   \n",
       "6618    Matthew Boyd  DET    9    12  4.56     32  32   0    0      0  ...   \n",
       "\n",
       "      Hits  Runs   ER  HR  HB  BB   SO  WHIP    AVG  Year  \n",
       "1068   227   119  112  46   6  45  108  1.37  0.286  2011  \n",
       "6627   227   114   94  41  10  27  127  1.29  0.286  2019  \n",
       "5871   188   116  104  41   6  54  184  1.41  0.274  2018  \n",
       "4381   208   122  118  40   8  82  135  1.60  0.288  2016  \n",
       "6618   178   101   94  39   8  50  238  1.23  0.247  2019  \n",
       "\n",
       "[5 rows x 22 columns]"
      ]
     },
     "execution_count": 21,
     "metadata": {},
     "output_type": "execute_result"
    }
   ],
   "source": [
    "all_pitchers_hr = all_pitchers.sort_values(by = ['HR'],  ascending = False)\n",
    "all_pitchers_hr.head()"
   ]
  },
  {
   "cell_type": "code",
   "execution_count": null,
   "metadata": {},
   "outputs": [],
   "source": []
  }
 ],
 "metadata": {
  "kernelspec": {
   "display_name": "Python 3",
   "language": "python",
   "name": "python3"
  },
  "language_info": {
   "codemirror_mode": {
    "name": "ipython",
    "version": 3
   },
   "file_extension": ".py",
   "mimetype": "text/x-python",
   "name": "python",
   "nbconvert_exporter": "python",
   "pygments_lexer": "ipython3",
   "version": "3.8.3"
  }
 },
 "nbformat": 4,
 "nbformat_minor": 4
}

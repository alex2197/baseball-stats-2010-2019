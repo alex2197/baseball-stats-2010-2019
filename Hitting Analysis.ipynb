{
 "cells": [
  {
   "cell_type": "markdown",
   "metadata": {},
   "source": [
    "# MLB top hitters analysis (2010-2019)"
   ]
  },
  {
   "cell_type": "markdown",
   "metadata": {},
   "source": [
    "### All players"
   ]
  },
  {
   "cell_type": "code",
   "execution_count": 339,
   "metadata": {},
   "outputs": [],
   "source": [
    "import os\n",
    "import pandas as pd\n",
    "import matplotlib.pyplot as plt\n",
    "import numpy as np\n",
    "import seaborn as sns"
   ]
  },
  {
   "cell_type": "markdown",
   "metadata": {},
   "source": [
    "#### Merge data from hitters"
   ]
  },
  {
   "cell_type": "code",
   "execution_count": 340,
   "metadata": {},
   "outputs": [],
   "source": [
    "path = './Hitting_stats'\n",
    "files = [file for file in os.listdir(path)]\n",
    "\n",
    "all_hitters_data = pd.DataFrame()\n",
    "\n",
    "for file in files:\n",
    "    current_data = pd.read_csv(path+'/'+file)\n",
    "    all_hitters_data = pd.concat([all_hitters_data, current_data])\n",
    "\n",
    "all_hitters_data.to_csv('all_hitters_stats.csv', index=False)"
   ]
  },
  {
   "cell_type": "code",
   "execution_count": 341,
   "metadata": {},
   "outputs": [
    {
     "data": {
      "text/html": [
       "<div>\n",
       "<style scoped>\n",
       "    .dataframe tbody tr th:only-of-type {\n",
       "        vertical-align: middle;\n",
       "    }\n",
       "\n",
       "    .dataframe tbody tr th {\n",
       "        vertical-align: top;\n",
       "    }\n",
       "\n",
       "    .dataframe thead th {\n",
       "        text-align: right;\n",
       "    }\n",
       "</style>\n",
       "<table border=\"1\" class=\"dataframe\">\n",
       "  <thead>\n",
       "    <tr style=\"text-align: right;\">\n",
       "      <th></th>\n",
       "      <th>Players</th>\n",
       "      <th>Position</th>\n",
       "      <th>Team</th>\n",
       "      <th>Games</th>\n",
       "      <th>At Bats</th>\n",
       "      <th>Runs</th>\n",
       "      <th>Hits</th>\n",
       "      <th>Doubles</th>\n",
       "      <th>Triples</th>\n",
       "      <th>Home Runs</th>\n",
       "      <th>RBI</th>\n",
       "      <th>BB</th>\n",
       "      <th>SO</th>\n",
       "      <th>SB</th>\n",
       "      <th>CS</th>\n",
       "      <th>Average</th>\n",
       "      <th>OBP</th>\n",
       "      <th>SLG</th>\n",
       "      <th>Year</th>\n",
       "    </tr>\n",
       "  </thead>\n",
       "  <tbody>\n",
       "    <tr>\n",
       "      <th>0</th>\n",
       "      <td>Matt Kemp</td>\n",
       "      <td>CF</td>\n",
       "      <td>LAD</td>\n",
       "      <td>162</td>\n",
       "      <td>602</td>\n",
       "      <td>82</td>\n",
       "      <td>150</td>\n",
       "      <td>25</td>\n",
       "      <td>6</td>\n",
       "      <td>28</td>\n",
       "      <td>89</td>\n",
       "      <td>53</td>\n",
       "      <td>170</td>\n",
       "      <td>19</td>\n",
       "      <td>15</td>\n",
       "      <td>0.249</td>\n",
       "      <td>0.310</td>\n",
       "      <td>0.450</td>\n",
       "      <td>2010</td>\n",
       "    </tr>\n",
       "    <tr>\n",
       "      <th>1</th>\n",
       "      <td>Ichiro Suzuki</td>\n",
       "      <td>RF</td>\n",
       "      <td>SEA</td>\n",
       "      <td>162</td>\n",
       "      <td>680</td>\n",
       "      <td>74</td>\n",
       "      <td>214</td>\n",
       "      <td>30</td>\n",
       "      <td>3</td>\n",
       "      <td>6</td>\n",
       "      <td>43</td>\n",
       "      <td>45</td>\n",
       "      <td>86</td>\n",
       "      <td>42</td>\n",
       "      <td>9</td>\n",
       "      <td>0.315</td>\n",
       "      <td>0.359</td>\n",
       "      <td>0.394</td>\n",
       "      <td>2010</td>\n",
       "    </tr>\n",
       "    <tr>\n",
       "      <th>2</th>\n",
       "      <td>Jose Bautista</td>\n",
       "      <td>RF</td>\n",
       "      <td>TOR</td>\n",
       "      <td>161</td>\n",
       "      <td>569</td>\n",
       "      <td>109</td>\n",
       "      <td>148</td>\n",
       "      <td>35</td>\n",
       "      <td>3</td>\n",
       "      <td>54</td>\n",
       "      <td>124</td>\n",
       "      <td>100</td>\n",
       "      <td>116</td>\n",
       "      <td>9</td>\n",
       "      <td>2</td>\n",
       "      <td>0.260</td>\n",
       "      <td>0.378</td>\n",
       "      <td>0.617</td>\n",
       "      <td>2010</td>\n",
       "    </tr>\n",
       "    <tr>\n",
       "      <th>3</th>\n",
       "      <td>Prince Fielder</td>\n",
       "      <td>1B</td>\n",
       "      <td>MIL</td>\n",
       "      <td>161</td>\n",
       "      <td>578</td>\n",
       "      <td>94</td>\n",
       "      <td>151</td>\n",
       "      <td>25</td>\n",
       "      <td>0</td>\n",
       "      <td>32</td>\n",
       "      <td>83</td>\n",
       "      <td>114</td>\n",
       "      <td>138</td>\n",
       "      <td>1</td>\n",
       "      <td>0</td>\n",
       "      <td>0.261</td>\n",
       "      <td>0.401</td>\n",
       "      <td>0.471</td>\n",
       "      <td>2010</td>\n",
       "    </tr>\n",
       "    <tr>\n",
       "      <th>4</th>\n",
       "      <td>Chone Figgins</td>\n",
       "      <td>2B</td>\n",
       "      <td>SEA</td>\n",
       "      <td>161</td>\n",
       "      <td>602</td>\n",
       "      <td>62</td>\n",
       "      <td>156</td>\n",
       "      <td>21</td>\n",
       "      <td>2</td>\n",
       "      <td>1</td>\n",
       "      <td>35</td>\n",
       "      <td>74</td>\n",
       "      <td>114</td>\n",
       "      <td>42</td>\n",
       "      <td>15</td>\n",
       "      <td>0.259</td>\n",
       "      <td>0.340</td>\n",
       "      <td>0.306</td>\n",
       "      <td>2010</td>\n",
       "    </tr>\n",
       "  </tbody>\n",
       "</table>\n",
       "</div>"
      ],
      "text/plain": [
       "          Players Position Team  Games  At Bats  Runs  Hits  Doubles  Triples  \\\n",
       "0       Matt Kemp       CF  LAD    162      602    82   150       25        6   \n",
       "1   Ichiro Suzuki       RF  SEA    162      680    74   214       30        3   \n",
       "2   Jose Bautista       RF  TOR    161      569   109   148       35        3   \n",
       "3  Prince Fielder       1B  MIL    161      578    94   151       25        0   \n",
       "4   Chone Figgins       2B  SEA    161      602    62   156       21        2   \n",
       "\n",
       "   Home Runs  RBI   BB   SO  SB  CS  Average    OBP    SLG  Year  \n",
       "0         28   89   53  170  19  15    0.249  0.310  0.450  2010  \n",
       "1          6   43   45   86  42   9    0.315  0.359  0.394  2010  \n",
       "2         54  124  100  116   9   2    0.260  0.378  0.617  2010  \n",
       "3         32   83  114  138   1   0    0.261  0.401  0.471  2010  \n",
       "4          1   35   74  114  42  15    0.259  0.340  0.306  2010  "
      ]
     },
     "execution_count": 341,
     "metadata": {},
     "output_type": "execute_result"
    }
   ],
   "source": [
    "all_hitters = pd.read_csv('all_hitters_stats.csv')\n",
    "all_hitters.head()"
   ]
  },
  {
   "cell_type": "markdown",
   "metadata": {},
   "source": [
    "#### Task 1: Create OPS and SO average column"
   ]
  },
  {
   "cell_type": "code",
   "execution_count": 342,
   "metadata": {},
   "outputs": [
    {
     "data": {
      "text/html": [
       "<div>\n",
       "<style scoped>\n",
       "    .dataframe tbody tr th:only-of-type {\n",
       "        vertical-align: middle;\n",
       "    }\n",
       "\n",
       "    .dataframe tbody tr th {\n",
       "        vertical-align: top;\n",
       "    }\n",
       "\n",
       "    .dataframe thead th {\n",
       "        text-align: right;\n",
       "    }\n",
       "</style>\n",
       "<table border=\"1\" class=\"dataframe\">\n",
       "  <thead>\n",
       "    <tr style=\"text-align: right;\">\n",
       "      <th></th>\n",
       "      <th>Players</th>\n",
       "      <th>Position</th>\n",
       "      <th>Team</th>\n",
       "      <th>Games</th>\n",
       "      <th>At Bats</th>\n",
       "      <th>Runs</th>\n",
       "      <th>Hits</th>\n",
       "      <th>Doubles</th>\n",
       "      <th>Triples</th>\n",
       "      <th>Home Runs</th>\n",
       "      <th>RBI</th>\n",
       "      <th>BB</th>\n",
       "      <th>SO</th>\n",
       "      <th>SB</th>\n",
       "      <th>CS</th>\n",
       "      <th>Average</th>\n",
       "      <th>OBP</th>\n",
       "      <th>SLG</th>\n",
       "      <th>Year</th>\n",
       "      <th>OPS</th>\n",
       "    </tr>\n",
       "  </thead>\n",
       "  <tbody>\n",
       "    <tr>\n",
       "      <th>0</th>\n",
       "      <td>Matt Kemp</td>\n",
       "      <td>CF</td>\n",
       "      <td>LAD</td>\n",
       "      <td>162</td>\n",
       "      <td>602</td>\n",
       "      <td>82</td>\n",
       "      <td>150</td>\n",
       "      <td>25</td>\n",
       "      <td>6</td>\n",
       "      <td>28</td>\n",
       "      <td>89</td>\n",
       "      <td>53</td>\n",
       "      <td>170</td>\n",
       "      <td>19</td>\n",
       "      <td>15</td>\n",
       "      <td>0.249</td>\n",
       "      <td>0.310</td>\n",
       "      <td>0.450</td>\n",
       "      <td>2010</td>\n",
       "      <td>0.760</td>\n",
       "    </tr>\n",
       "    <tr>\n",
       "      <th>1</th>\n",
       "      <td>Ichiro Suzuki</td>\n",
       "      <td>RF</td>\n",
       "      <td>SEA</td>\n",
       "      <td>162</td>\n",
       "      <td>680</td>\n",
       "      <td>74</td>\n",
       "      <td>214</td>\n",
       "      <td>30</td>\n",
       "      <td>3</td>\n",
       "      <td>6</td>\n",
       "      <td>43</td>\n",
       "      <td>45</td>\n",
       "      <td>86</td>\n",
       "      <td>42</td>\n",
       "      <td>9</td>\n",
       "      <td>0.315</td>\n",
       "      <td>0.359</td>\n",
       "      <td>0.394</td>\n",
       "      <td>2010</td>\n",
       "      <td>0.753</td>\n",
       "    </tr>\n",
       "    <tr>\n",
       "      <th>2</th>\n",
       "      <td>Jose Bautista</td>\n",
       "      <td>RF</td>\n",
       "      <td>TOR</td>\n",
       "      <td>161</td>\n",
       "      <td>569</td>\n",
       "      <td>109</td>\n",
       "      <td>148</td>\n",
       "      <td>35</td>\n",
       "      <td>3</td>\n",
       "      <td>54</td>\n",
       "      <td>124</td>\n",
       "      <td>100</td>\n",
       "      <td>116</td>\n",
       "      <td>9</td>\n",
       "      <td>2</td>\n",
       "      <td>0.260</td>\n",
       "      <td>0.378</td>\n",
       "      <td>0.617</td>\n",
       "      <td>2010</td>\n",
       "      <td>0.995</td>\n",
       "    </tr>\n",
       "    <tr>\n",
       "      <th>3</th>\n",
       "      <td>Prince Fielder</td>\n",
       "      <td>1B</td>\n",
       "      <td>MIL</td>\n",
       "      <td>161</td>\n",
       "      <td>578</td>\n",
       "      <td>94</td>\n",
       "      <td>151</td>\n",
       "      <td>25</td>\n",
       "      <td>0</td>\n",
       "      <td>32</td>\n",
       "      <td>83</td>\n",
       "      <td>114</td>\n",
       "      <td>138</td>\n",
       "      <td>1</td>\n",
       "      <td>0</td>\n",
       "      <td>0.261</td>\n",
       "      <td>0.401</td>\n",
       "      <td>0.471</td>\n",
       "      <td>2010</td>\n",
       "      <td>0.872</td>\n",
       "    </tr>\n",
       "    <tr>\n",
       "      <th>4</th>\n",
       "      <td>Chone Figgins</td>\n",
       "      <td>2B</td>\n",
       "      <td>SEA</td>\n",
       "      <td>161</td>\n",
       "      <td>602</td>\n",
       "      <td>62</td>\n",
       "      <td>156</td>\n",
       "      <td>21</td>\n",
       "      <td>2</td>\n",
       "      <td>1</td>\n",
       "      <td>35</td>\n",
       "      <td>74</td>\n",
       "      <td>114</td>\n",
       "      <td>42</td>\n",
       "      <td>15</td>\n",
       "      <td>0.259</td>\n",
       "      <td>0.340</td>\n",
       "      <td>0.306</td>\n",
       "      <td>2010</td>\n",
       "      <td>0.646</td>\n",
       "    </tr>\n",
       "  </tbody>\n",
       "</table>\n",
       "</div>"
      ],
      "text/plain": [
       "          Players Position Team  Games  At Bats  Runs  Hits  Doubles  Triples  \\\n",
       "0       Matt Kemp       CF  LAD    162      602    82   150       25        6   \n",
       "1   Ichiro Suzuki       RF  SEA    162      680    74   214       30        3   \n",
       "2   Jose Bautista       RF  TOR    161      569   109   148       35        3   \n",
       "3  Prince Fielder       1B  MIL    161      578    94   151       25        0   \n",
       "4   Chone Figgins       2B  SEA    161      602    62   156       21        2   \n",
       "\n",
       "   Home Runs  RBI   BB   SO  SB  CS  Average    OBP    SLG  Year    OPS  \n",
       "0         28   89   53  170  19  15    0.249  0.310  0.450  2010  0.760  \n",
       "1          6   43   45   86  42   9    0.315  0.359  0.394  2010  0.753  \n",
       "2         54  124  100  116   9   2    0.260  0.378  0.617  2010  0.995  \n",
       "3         32   83  114  138   1   0    0.261  0.401  0.471  2010  0.872  \n",
       "4          1   35   74  114  42  15    0.259  0.340  0.306  2010  0.646  "
      ]
     },
     "execution_count": 342,
     "metadata": {},
     "output_type": "execute_result"
    }
   ],
   "source": [
    "all_hitters['OPS'] = all_hitters['OBP'] + all_hitters['SLG']\n",
    "all_hitters.head()"
   ]
  },
  {
   "cell_type": "code",
   "execution_count": 374,
   "metadata": {},
   "outputs": [
    {
     "data": {
      "text/html": [
       "<div>\n",
       "<style scoped>\n",
       "    .dataframe tbody tr th:only-of-type {\n",
       "        vertical-align: middle;\n",
       "    }\n",
       "\n",
       "    .dataframe tbody tr th {\n",
       "        vertical-align: top;\n",
       "    }\n",
       "\n",
       "    .dataframe thead th {\n",
       "        text-align: right;\n",
       "    }\n",
       "</style>\n",
       "<table border=\"1\" class=\"dataframe\">\n",
       "  <thead>\n",
       "    <tr style=\"text-align: right;\">\n",
       "      <th></th>\n",
       "      <th>Players</th>\n",
       "      <th>Position</th>\n",
       "      <th>Team</th>\n",
       "      <th>Games</th>\n",
       "      <th>At Bats</th>\n",
       "      <th>Runs</th>\n",
       "      <th>Hits</th>\n",
       "      <th>Doubles</th>\n",
       "      <th>Triples</th>\n",
       "      <th>Home Runs</th>\n",
       "      <th>...</th>\n",
       "      <th>BB</th>\n",
       "      <th>SO</th>\n",
       "      <th>SB</th>\n",
       "      <th>CS</th>\n",
       "      <th>Average</th>\n",
       "      <th>OBP</th>\n",
       "      <th>SLG</th>\n",
       "      <th>Year</th>\n",
       "      <th>OPS</th>\n",
       "      <th>SO average</th>\n",
       "    </tr>\n",
       "  </thead>\n",
       "  <tbody>\n",
       "    <tr>\n",
       "      <th>0</th>\n",
       "      <td>Matt Kemp</td>\n",
       "      <td>CF</td>\n",
       "      <td>LAD</td>\n",
       "      <td>162</td>\n",
       "      <td>602</td>\n",
       "      <td>82</td>\n",
       "      <td>150</td>\n",
       "      <td>25</td>\n",
       "      <td>6</td>\n",
       "      <td>28</td>\n",
       "      <td>...</td>\n",
       "      <td>53</td>\n",
       "      <td>170</td>\n",
       "      <td>19</td>\n",
       "      <td>15</td>\n",
       "      <td>0.249</td>\n",
       "      <td>0.310</td>\n",
       "      <td>0.450</td>\n",
       "      <td>2010</td>\n",
       "      <td>0.760</td>\n",
       "      <td>0.282392</td>\n",
       "    </tr>\n",
       "    <tr>\n",
       "      <th>1</th>\n",
       "      <td>Ichiro Suzuki</td>\n",
       "      <td>RF</td>\n",
       "      <td>SEA</td>\n",
       "      <td>162</td>\n",
       "      <td>680</td>\n",
       "      <td>74</td>\n",
       "      <td>214</td>\n",
       "      <td>30</td>\n",
       "      <td>3</td>\n",
       "      <td>6</td>\n",
       "      <td>...</td>\n",
       "      <td>45</td>\n",
       "      <td>86</td>\n",
       "      <td>42</td>\n",
       "      <td>9</td>\n",
       "      <td>0.315</td>\n",
       "      <td>0.359</td>\n",
       "      <td>0.394</td>\n",
       "      <td>2010</td>\n",
       "      <td>0.753</td>\n",
       "      <td>0.126471</td>\n",
       "    </tr>\n",
       "    <tr>\n",
       "      <th>2</th>\n",
       "      <td>Jose Bautista</td>\n",
       "      <td>RF</td>\n",
       "      <td>TOR</td>\n",
       "      <td>161</td>\n",
       "      <td>569</td>\n",
       "      <td>109</td>\n",
       "      <td>148</td>\n",
       "      <td>35</td>\n",
       "      <td>3</td>\n",
       "      <td>54</td>\n",
       "      <td>...</td>\n",
       "      <td>100</td>\n",
       "      <td>116</td>\n",
       "      <td>9</td>\n",
       "      <td>2</td>\n",
       "      <td>0.260</td>\n",
       "      <td>0.378</td>\n",
       "      <td>0.617</td>\n",
       "      <td>2010</td>\n",
       "      <td>0.995</td>\n",
       "      <td>0.203866</td>\n",
       "    </tr>\n",
       "    <tr>\n",
       "      <th>3</th>\n",
       "      <td>Prince Fielder</td>\n",
       "      <td>1B</td>\n",
       "      <td>MIL</td>\n",
       "      <td>161</td>\n",
       "      <td>578</td>\n",
       "      <td>94</td>\n",
       "      <td>151</td>\n",
       "      <td>25</td>\n",
       "      <td>0</td>\n",
       "      <td>32</td>\n",
       "      <td>...</td>\n",
       "      <td>114</td>\n",
       "      <td>138</td>\n",
       "      <td>1</td>\n",
       "      <td>0</td>\n",
       "      <td>0.261</td>\n",
       "      <td>0.401</td>\n",
       "      <td>0.471</td>\n",
       "      <td>2010</td>\n",
       "      <td>0.872</td>\n",
       "      <td>0.238754</td>\n",
       "    </tr>\n",
       "    <tr>\n",
       "      <th>4</th>\n",
       "      <td>Chone Figgins</td>\n",
       "      <td>2B</td>\n",
       "      <td>SEA</td>\n",
       "      <td>161</td>\n",
       "      <td>602</td>\n",
       "      <td>62</td>\n",
       "      <td>156</td>\n",
       "      <td>21</td>\n",
       "      <td>2</td>\n",
       "      <td>1</td>\n",
       "      <td>...</td>\n",
       "      <td>74</td>\n",
       "      <td>114</td>\n",
       "      <td>42</td>\n",
       "      <td>15</td>\n",
       "      <td>0.259</td>\n",
       "      <td>0.340</td>\n",
       "      <td>0.306</td>\n",
       "      <td>2010</td>\n",
       "      <td>0.646</td>\n",
       "      <td>0.189369</td>\n",
       "    </tr>\n",
       "  </tbody>\n",
       "</table>\n",
       "<p>5 rows × 21 columns</p>\n",
       "</div>"
      ],
      "text/plain": [
       "          Players Position Team  Games  At Bats  Runs  Hits  Doubles  Triples  \\\n",
       "0       Matt Kemp       CF  LAD    162      602    82   150       25        6   \n",
       "1   Ichiro Suzuki       RF  SEA    162      680    74   214       30        3   \n",
       "2   Jose Bautista       RF  TOR    161      569   109   148       35        3   \n",
       "3  Prince Fielder       1B  MIL    161      578    94   151       25        0   \n",
       "4   Chone Figgins       2B  SEA    161      602    62   156       21        2   \n",
       "\n",
       "   Home Runs  ...   BB   SO  SB  CS  Average    OBP    SLG  Year    OPS  \\\n",
       "0         28  ...   53  170  19  15    0.249  0.310  0.450  2010  0.760   \n",
       "1          6  ...   45   86  42   9    0.315  0.359  0.394  2010  0.753   \n",
       "2         54  ...  100  116   9   2    0.260  0.378  0.617  2010  0.995   \n",
       "3         32  ...  114  138   1   0    0.261  0.401  0.471  2010  0.872   \n",
       "4          1  ...   74  114  42  15    0.259  0.340  0.306  2010  0.646   \n",
       "\n",
       "   SO average  \n",
       "0    0.282392  \n",
       "1    0.126471  \n",
       "2    0.203866  \n",
       "3    0.238754  \n",
       "4    0.189369  \n",
       "\n",
       "[5 rows x 21 columns]"
      ]
     },
     "execution_count": 374,
     "metadata": {},
     "output_type": "execute_result"
    }
   ],
   "source": [
    "all_hitters['SO average'] = all_hitters['SO'] / all_hitters['At Bats']\n",
    "all_hitters.head()"
   ]
  },
  {
   "cell_type": "markdown",
   "metadata": {},
   "source": [
    "#### Task 2: Find best hitters by position"
   ]
  },
  {
   "cell_type": "code",
   "execution_count": 344,
   "metadata": {},
   "outputs": [
    {
     "name": "stdout",
     "output_type": "stream",
     "text": [
      "Position\n",
      "1B    51165\n",
      "2B    52634\n",
      "3B    49199\n",
      "C     45199\n",
      "CF    47444\n",
      "DH    11024\n",
      "IF       23\n",
      "LF    56043\n",
      "OF      651\n",
      "P      6318\n",
      "RF    47828\n",
      "SS    50240\n",
      "X       998\n",
      "Name: Hits, dtype: int64\n"
     ]
    }
   ],
   "source": [
    "position_hitters = all_hitters.groupby('Position').sum()['Hits']\n",
    "print(position_hitters)"
   ]
  },
  {
   "cell_type": "code",
   "execution_count": 420,
   "metadata": {},
   "outputs": [
    {
     "data": {
      "image/png": "[encoded data removed]",
      "text/plain": [
       "<Figure size 432x288 with 1 Axes>"
      ]
     },
     "metadata": {},
     "output_type": "display_data"
    }
   ],
   "source": [
    "positions = [position for position, df in all_hitters.groupby('Position')]\n",
    "\n",
    "plt_hittersbar = sns.barplot(x = positions, y = position_hitters, palette=\"deep\")\n",
    "plt_hittersbar.set(xlabel = \"Positions\", ylabel = \"Number of hits\")\n",
    "plt.show()\n",
    "\n",
    "#The ShortStops are the best hitters in the MLB\n",
    "#The catchers are the worst at the plate"
   ]
  },
  {
   "cell_type": "code",
   "execution_count": 471,
   "metadata": {},
   "outputs": [
    {
     "data": {
      "image/png": "[encoded data removed]",
      "text/plain": [
       "<Figure size 432x288 with 1 Axes>"
      ]
     },
     "metadata": {},
     "output_type": "display_data"
    }
   ],
   "source": [
    "plt.pie(x = position_hitters,\n",
    "        labels = positions,\n",
    "        radius = 4.5,\n",
    "        colors = sns.color_palette(\"Paired\"),\n",
    "        autopct = \"%1.2f%%\", \n",
    "        textprops={'fontsize': 16}, \n",
    "        pctdistance=0.6, \n",
    "        labeldistance=1.2,\n",
    "        explode = (0, 0, 0, 0, 0, 0.7, 0, 0.2, 0.7, 0, 0, 0, 0))\n",
    "plt.show()"
   ]
  },
  {
   "cell_type": "markdown",
   "metadata": {},
   "source": [
    "#### Task 3: Find the teams that hits the most and less home runs"
   ]
  },
  {
   "cell_type": "code",
   "execution_count": 347,
   "metadata": {},
   "outputs": [
    {
     "data": {
      "text/plain": [
       "Team\n",
       "NYY    2276\n",
       "TOR    2124\n",
       "BAL    2100\n",
       "TEX    1967\n",
       "LAD    1907\n",
       "Name: Home Runs, dtype: int64"
      ]
     },
     "execution_count": 347,
     "metadata": {},
     "output_type": "execute_result"
    }
   ],
   "source": [
    "teams_hr = all_hitters.groupby('Team').sum()['Home Runs']\n",
    "teams_mosthr = teams_hr.sort_values(ascending=False)\n",
    "teams_mosthr.head(5)"
   ]
  },
  {
   "cell_type": "code",
   "execution_count": 348,
   "metadata": {},
   "outputs": [
    {
     "data": {
      "text/plain": [
       "Team\n",
       "--        0\n",
       "FLA     285\n",
       "MIA    1014\n",
       "KC     1331\n",
       "SD     1417\n",
       "SF     1420\n",
       "Name: Home Runs, dtype: int64"
      ]
     },
     "execution_count": 348,
     "metadata": {},
     "output_type": "execute_result"
    }
   ],
   "source": [
    "teams_lesshr = teams_hr.sort_values()\n",
    "teams_lesshr.head(6)"
   ]
  },
  {
   "cell_type": "code",
   "execution_count": 473,
   "metadata": {},
   "outputs": [
    {
     "data": {
      "image/png": "[encoded data removed]",
      "text/plain": [
       "<Figure size 504x1440 with 1 Axes>"
      ]
     },
     "metadata": {},
     "output_type": "display_data"
    }
   ],
   "source": [
    "teams = [team for team, df in all_hitters.groupby('Team')]\n",
    "\n",
    "teams_hr.head(30).plot(kind='barh', figsize=(7,20), color={\"red\", \"blue\"})\n",
    "plt.show()"
   ]
  },
  {
   "cell_type": "markdown",
   "metadata": {},
   "source": [
    "#### Task 4: Find the players with the most home runs"
   ]
  },
  {
   "cell_type": "code",
   "execution_count": 366,
   "metadata": {},
   "outputs": [
    {
     "data": {
      "text/plain": [
       "Players\n",
       "Nelson Cruz          386\n",
       "Edwin Encarnacion    335\n",
       "Mike Trout           321\n",
       "Albert Pujols        318\n",
       "Giancarlo Stanton    308\n",
       "Miguel Cabrera       293\n",
       "Adam Jones           280\n",
       "Evan Longoria        259\n",
       "Chris Davis          257\n",
       "Robinson Cano        251\n",
       "Name: Home Runs, dtype: int64"
      ]
     },
     "execution_count": 366,
     "metadata": {},
     "output_type": "execute_result"
    }
   ],
   "source": [
    "#Showing the first 10 players with the most home runs\n",
    "group_playershr = all_hitters.groupby('Players').sum()['Home Runs']\n",
    "most_hr = group_playershr.sort_values(ascending=False)\n",
    "most_hr.head(10)"
   ]
  },
  {
   "cell_type": "markdown",
   "metadata": {},
   "source": [
    "#### Task 5: Find the players with the most hits"
   ]
  },
  {
   "cell_type": "code",
   "execution_count": 365,
   "metadata": {},
   "outputs": [
    {
     "data": {
      "text/plain": [
       "Players\n",
       "Robinson Cano      1882\n",
       "Adam Jones         1828\n",
       "Jose Altuve        1793\n",
       "Miguel Cabrera     1786\n",
       "Elvis Andrus       1758\n",
       "Albert Pujols      1657\n",
       "Ian Kinsler        1631\n",
       "Nelson Cruz        1627\n",
       "Freddie Freeman    1626\n",
       "Starlin Castro     1617\n",
       "Name: Hits, dtype: int64"
      ]
     },
     "execution_count": 365,
     "metadata": {},
     "output_type": "execute_result"
    }
   ],
   "source": [
    "#Showing the first 10 players with the most hits\n",
    "group_playershits = all_hitters.groupby('Players').sum()['Hits']\n",
    "most_hits = group_playershits.sort_values(ascending=False)\n",
    "most_hits.head(10)"
   ]
  },
  {
   "cell_type": "markdown",
   "metadata": {},
   "source": [
    "### Giancarlo Stanton trough the years"
   ]
  },
  {
   "cell_type": "markdown",
   "metadata": {},
   "source": [
    "#### Task 6: Home Runs and hits\n"
   ]
  },
  {
   "cell_type": "code",
   "execution_count": 404,
   "metadata": {},
   "outputs": [
    {
     "name": "stdout",
     "output_type": "stream",
     "text": [
      "                 Players Position Team  Games  At Bats  Runs  Hits  Doubles  \\\n",
      "11659  Giancarlo Stanton       LF  NYY     18       59     8    17        3   \n",
      "217    Giancarlo Stanton       DH  NYY    158      617   102   164       34   \n",
      "187    Giancarlo Stanton       RF  MIA    159      597   123   168       32   \n",
      "7446   Giancarlo Stanton       RF  MIA    119      413    56    99       20   \n",
      "6365   Giancarlo Stanton       RF  MIA     74      279    47    74       12   \n",
      "4927   Giancarlo Stanton       RF  MIA    145      539    89   155       31   \n",
      "3858   Giancarlo Stanton       RF  MIA    116      425    62   106       26   \n",
      "2675   Giancarlo Stanton       RF  MIA    123      449    75   130       30   \n",
      "1416   Giancarlo Stanton       RF  FLA    150      516    79   135       30   \n",
      "478    Giancarlo Stanton       RF  FLA    100      359    45    93       21   \n",
      "\n",
      "       Triples  Home Runs  ...  BB   SO  SB  CS  Average    OBP    SLG  Year  \\\n",
      "11659        0          3  ...  12   24   0   0    0.288  0.403  0.492  2019   \n",
      "217          1         38  ...  70  211   5   0    0.266  0.343  0.509  2018   \n",
      "187          0         59  ...  85  163   2   2    0.281  0.376  0.631  2017   \n",
      "7446         1         27  ...  50  140   0   0    0.240  0.326  0.489  2016   \n",
      "6365         1         27  ...  34   95   4   2    0.265  0.346  0.606  2015   \n",
      "4927         1         37  ...  94  170  13   1    0.288  0.395  0.555  2014   \n",
      "3858         0         24  ...  74  140   1   0    0.249  0.365  0.480  2013   \n",
      "2675         1         37  ...  46  143   6   2    0.290  0.361  0.608  2012   \n",
      "1416         5         34  ...  70  166   5   5    0.262  0.356  0.537  2011   \n",
      "478          1         22  ...  34  123   5   2    0.259  0.326  0.507  2010   \n",
      "\n",
      "         OPS  SO average  \n",
      "11659  0.895    0.406780  \n",
      "217    0.852    0.341977  \n",
      "187    1.007    0.273032  \n",
      "7446   0.815    0.338983  \n",
      "6365   0.952    0.340502  \n",
      "4927   0.950    0.315399  \n",
      "3858   0.845    0.329412  \n",
      "2675   0.969    0.318486  \n",
      "1416   0.893    0.321705  \n",
      "478    0.833    0.342618  \n",
      "\n",
      "[10 rows x 21 columns]\n"
     ]
    }
   ],
   "source": [
    "all_giancarlo = all_hitters[all_hitters['Players']=='Giancarlo Stanton']\n",
    "sortGiancarloYears = all_giancarlo.sort_values(by=['Year'], ascending=False)\n",
    "print(sortGiancarloYears)"
   ]
  },
  {
   "cell_type": "code",
   "execution_count": 416,
   "metadata": {},
   "outputs": [
    {
     "data": {
      "image/png": "[encoded data removed]",
      "text/plain": [
       "<Figure size 432x288 with 1 Axes>"
      ]
     },
     "metadata": {},
     "output_type": "display_data"
    }
   ],
   "source": [
    "sns.set_style(\"darkgrid\", {\"axes.facecolor\": \".9\"})\n",
    "plt_giancarlo = sns.lineplot(\n",
    "                             x = 'Year',\n",
    "                             y = 'Hits', \n",
    "                             data=sortGiancarloYears, \n",
    "                             #hue = 'Year',\n",
    "                             #style = 'Year', \n",
    "                             #dashes = False\n",
    "                            )\n",
    "plt_giancarlo.set(xticks=sortGiancarloYears['Year'])\n",
    "plt.show()"
   ]
  },
  {
   "cell_type": "code",
   "execution_count": 474,
   "metadata": {},
   "outputs": [
    {
     "data": {
      "image/png": "[encoded data removed]",
      "text/plain": [
       "<Figure size 432x288 with 1 Axes>"
      ]
     },
     "metadata": {},
     "output_type": "display_data"
    }
   ],
   "source": [
    "sns.set_style(\"darkgrid\", {\"axes.facecolor\": \".9\"})\n",
    "plt_giancarlo = sns.lineplot(\n",
    "                             x = 'Year',\n",
    "                             y = 'Home Runs', \n",
    "                             data=sortGiancarloYears, \n",
    "                             #hue = 'Year',\n",
    "                             #style = 'Year', \n",
    "                             #dashes = False\n",
    "                            )\n",
    "plt_giancarlo.set(xticks=sortGiancarloYears['Year'])\n",
    "plt.show()"
   ]
  },
  {
   "cell_type": "markdown",
   "metadata": {},
   "source": [
    "#### Task 7: Batting average"
   ]
  },
  {
   "cell_type": "code",
   "execution_count": 406,
   "metadata": {},
   "outputs": [
    {
     "name": "stdout",
     "output_type": "stream",
     "text": [
      "Giancarlo's average trough the decade: 0.2688\n"
     ]
    }
   ],
   "source": [
    "giancarlo_avg = all_giancarlo.sum()['Average'] / len(all_giancarlo)\n",
    "print(\"Giancarlo's average trough the decade: %.4f\" %giancarlo_avg)"
   ]
  },
  {
   "cell_type": "markdown",
   "metadata": {},
   "source": [
    "#### Task 8: Strikeout average"
   ]
  },
  {
   "cell_type": "code",
   "execution_count": 407,
   "metadata": {},
   "outputs": [
    {
     "name": "stdout",
     "output_type": "stream",
     "text": [
      "Giancarlo's strikeout average is: 0.3329\n"
     ]
    }
   ],
   "source": [
    "giancarlo_soavg = all_giancarlo.sum()['SO average'] / len(all_giancarlo)\n",
    "print(\"Giancarlo's strikeout average is: %.4f\" %giancarlo_soavg)"
   ]
  },
  {
   "cell_type": "code",
   "execution_count": 411,
   "metadata": {
    "scrolled": true
   },
   "outputs": [
    {
     "data": {
      "text/html": [
       "<div>\n",
       "<style scoped>\n",
       "    .dataframe tbody tr th:only-of-type {\n",
       "        vertical-align: middle;\n",
       "    }\n",
       "\n",
       "    .dataframe tbody tr th {\n",
       "        vertical-align: top;\n",
       "    }\n",
       "\n",
       "    .dataframe thead th {\n",
       "        text-align: right;\n",
       "    }\n",
       "</style>\n",
       "<table border=\"1\" class=\"dataframe\">\n",
       "  <thead>\n",
       "    <tr style=\"text-align: right;\">\n",
       "      <th></th>\n",
       "      <th>Games</th>\n",
       "      <th>At Bats</th>\n",
       "      <th>Runs</th>\n",
       "      <th>Hits</th>\n",
       "      <th>Doubles</th>\n",
       "      <th>Triples</th>\n",
       "      <th>Home Runs</th>\n",
       "      <th>RBI</th>\n",
       "      <th>BB</th>\n",
       "      <th>SO</th>\n",
       "      <th>SB</th>\n",
       "      <th>CS</th>\n",
       "      <th>Average</th>\n",
       "      <th>OBP</th>\n",
       "      <th>SLG</th>\n",
       "      <th>Year</th>\n",
       "      <th>OPS</th>\n",
       "      <th>SO average</th>\n",
       "    </tr>\n",
       "  </thead>\n",
       "  <tbody>\n",
       "    <tr>\n",
       "      <th>count</th>\n",
       "      <td>10.000000</td>\n",
       "      <td>10.00000</td>\n",
       "      <td>10.000000</td>\n",
       "      <td>10.000000</td>\n",
       "      <td>10.000000</td>\n",
       "      <td>10.000000</td>\n",
       "      <td>10.00000</td>\n",
       "      <td>10.00000</td>\n",
       "      <td>10.000000</td>\n",
       "      <td>10.000000</td>\n",
       "      <td>10.000000</td>\n",
       "      <td>10.000000</td>\n",
       "      <td>10.00000</td>\n",
       "      <td>10.000000</td>\n",
       "      <td>10.000000</td>\n",
       "      <td>10.00000</td>\n",
       "      <td>10.000000</td>\n",
       "      <td>10.000000</td>\n",
       "    </tr>\n",
       "    <tr>\n",
       "      <th>mean</th>\n",
       "      <td>116.200000</td>\n",
       "      <td>425.30000</td>\n",
       "      <td>68.600000</td>\n",
       "      <td>114.100000</td>\n",
       "      <td>23.900000</td>\n",
       "      <td>1.100000</td>\n",
       "      <td>30.80000</td>\n",
       "      <td>78.50000</td>\n",
       "      <td>56.900000</td>\n",
       "      <td>137.500000</td>\n",
       "      <td>4.100000</td>\n",
       "      <td>1.400000</td>\n",
       "      <td>0.26880</td>\n",
       "      <td>0.359700</td>\n",
       "      <td>0.541400</td>\n",
       "      <td>2014.50000</td>\n",
       "      <td>0.901100</td>\n",
       "      <td>0.332889</td>\n",
       "    </tr>\n",
       "    <tr>\n",
       "      <th>std</th>\n",
       "      <td>43.832509</td>\n",
       "      <td>166.02279</td>\n",
       "      <td>32.554911</td>\n",
       "      <td>46.586717</td>\n",
       "      <td>9.993887</td>\n",
       "      <td>1.449138</td>\n",
       "      <td>14.37436</td>\n",
       "      <td>32.05984</td>\n",
       "      <td>25.890582</td>\n",
       "      <td>50.401168</td>\n",
       "      <td>3.842742</td>\n",
       "      <td>1.577621</td>\n",
       "      <td>0.01739</td>\n",
       "      <td>0.026179</td>\n",
       "      <td>0.055808</td>\n",
       "      <td>3.02765</td>\n",
       "      <td>0.065421</td>\n",
       "      <td>0.033276</td>\n",
       "    </tr>\n",
       "    <tr>\n",
       "      <th>min</th>\n",
       "      <td>18.000000</td>\n",
       "      <td>59.00000</td>\n",
       "      <td>8.000000</td>\n",
       "      <td>17.000000</td>\n",
       "      <td>3.000000</td>\n",
       "      <td>0.000000</td>\n",
       "      <td>3.00000</td>\n",
       "      <td>13.00000</td>\n",
       "      <td>12.000000</td>\n",
       "      <td>24.000000</td>\n",
       "      <td>0.000000</td>\n",
       "      <td>0.000000</td>\n",
       "      <td>0.24000</td>\n",
       "      <td>0.326000</td>\n",
       "      <td>0.480000</td>\n",
       "      <td>2010.00000</td>\n",
       "      <td>0.815000</td>\n",
       "      <td>0.273032</td>\n",
       "    </tr>\n",
       "    <tr>\n",
       "      <th>25%</th>\n",
       "      <td>104.000000</td>\n",
       "      <td>372.50000</td>\n",
       "      <td>49.250000</td>\n",
       "      <td>94.500000</td>\n",
       "      <td>20.250000</td>\n",
       "      <td>0.250000</td>\n",
       "      <td>24.75000</td>\n",
       "      <td>63.25000</td>\n",
       "      <td>37.000000</td>\n",
       "      <td>127.250000</td>\n",
       "      <td>1.250000</td>\n",
       "      <td>0.000000</td>\n",
       "      <td>0.25975</td>\n",
       "      <td>0.343750</td>\n",
       "      <td>0.495750</td>\n",
       "      <td>2012.25000</td>\n",
       "      <td>0.846750</td>\n",
       "      <td>0.319290</td>\n",
       "    </tr>\n",
       "    <tr>\n",
       "      <th>50%</th>\n",
       "      <td>121.000000</td>\n",
       "      <td>437.00000</td>\n",
       "      <td>68.500000</td>\n",
       "      <td>118.000000</td>\n",
       "      <td>28.000000</td>\n",
       "      <td>1.000000</td>\n",
       "      <td>30.50000</td>\n",
       "      <td>80.00000</td>\n",
       "      <td>60.000000</td>\n",
       "      <td>141.500000</td>\n",
       "      <td>4.500000</td>\n",
       "      <td>1.500000</td>\n",
       "      <td>0.26550</td>\n",
       "      <td>0.358500</td>\n",
       "      <td>0.523000</td>\n",
       "      <td>2014.50000</td>\n",
       "      <td>0.894000</td>\n",
       "      <td>0.334197</td>\n",
       "    </tr>\n",
       "    <tr>\n",
       "      <th>75%</th>\n",
       "      <td>148.750000</td>\n",
       "      <td>533.25000</td>\n",
       "      <td>86.500000</td>\n",
       "      <td>150.000000</td>\n",
       "      <td>30.750000</td>\n",
       "      <td>1.000000</td>\n",
       "      <td>37.00000</td>\n",
       "      <td>96.75000</td>\n",
       "      <td>73.000000</td>\n",
       "      <td>165.250000</td>\n",
       "      <td>5.000000</td>\n",
       "      <td>2.000000</td>\n",
       "      <td>0.28625</td>\n",
       "      <td>0.373250</td>\n",
       "      <td>0.593250</td>\n",
       "      <td>2016.75000</td>\n",
       "      <td>0.951500</td>\n",
       "      <td>0.341608</td>\n",
       "    </tr>\n",
       "    <tr>\n",
       "      <th>max</th>\n",
       "      <td>159.000000</td>\n",
       "      <td>617.00000</td>\n",
       "      <td>123.000000</td>\n",
       "      <td>168.000000</td>\n",
       "      <td>34.000000</td>\n",
       "      <td>5.000000</td>\n",
       "      <td>59.00000</td>\n",
       "      <td>132.00000</td>\n",
       "      <td>94.000000</td>\n",
       "      <td>211.000000</td>\n",
       "      <td>13.000000</td>\n",
       "      <td>5.000000</td>\n",
       "      <td>0.29000</td>\n",
       "      <td>0.403000</td>\n",
       "      <td>0.631000</td>\n",
       "      <td>2019.00000</td>\n",
       "      <td>1.007000</td>\n",
       "      <td>0.406780</td>\n",
       "    </tr>\n",
       "  </tbody>\n",
       "</table>\n",
       "</div>"
      ],
      "text/plain": [
       "            Games    At Bats        Runs        Hits    Doubles    Triples  \\\n",
       "count   10.000000   10.00000   10.000000   10.000000  10.000000  10.000000   \n",
       "mean   116.200000  425.30000   68.600000  114.100000  23.900000   1.100000   \n",
       "std     43.832509  166.02279   32.554911   46.586717   9.993887   1.449138   \n",
       "min     18.000000   59.00000    8.000000   17.000000   3.000000   0.000000   \n",
       "25%    104.000000  372.50000   49.250000   94.500000  20.250000   0.250000   \n",
       "50%    121.000000  437.00000   68.500000  118.000000  28.000000   1.000000   \n",
       "75%    148.750000  533.25000   86.500000  150.000000  30.750000   1.000000   \n",
       "max    159.000000  617.00000  123.000000  168.000000  34.000000   5.000000   \n",
       "\n",
       "       Home Runs        RBI         BB          SO         SB         CS  \\\n",
       "count   10.00000   10.00000  10.000000   10.000000  10.000000  10.000000   \n",
       "mean    30.80000   78.50000  56.900000  137.500000   4.100000   1.400000   \n",
       "std     14.37436   32.05984  25.890582   50.401168   3.842742   1.577621   \n",
       "min      3.00000   13.00000  12.000000   24.000000   0.000000   0.000000   \n",
       "25%     24.75000   63.25000  37.000000  127.250000   1.250000   0.000000   \n",
       "50%     30.50000   80.00000  60.000000  141.500000   4.500000   1.500000   \n",
       "75%     37.00000   96.75000  73.000000  165.250000   5.000000   2.000000   \n",
       "max     59.00000  132.00000  94.000000  211.000000  13.000000   5.000000   \n",
       "\n",
       "        Average        OBP        SLG        Year        OPS  SO average  \n",
       "count  10.00000  10.000000  10.000000    10.00000  10.000000   10.000000  \n",
       "mean    0.26880   0.359700   0.541400  2014.50000   0.901100    0.332889  \n",
       "std     0.01739   0.026179   0.055808     3.02765   0.065421    0.033276  \n",
       "min     0.24000   0.326000   0.480000  2010.00000   0.815000    0.273032  \n",
       "25%     0.25975   0.343750   0.495750  2012.25000   0.846750    0.319290  \n",
       "50%     0.26550   0.358500   0.523000  2014.50000   0.894000    0.334197  \n",
       "75%     0.28625   0.373250   0.593250  2016.75000   0.951500    0.341608  \n",
       "max     0.29000   0.403000   0.631000  2019.00000   1.007000    0.406780  "
      ]
     },
     "execution_count": 411,
     "metadata": {},
     "output_type": "execute_result"
    }
   ],
   "source": [
    "#Show basic statistic information\n",
    "sortGiancarloYears.describe()"
   ]
  },
  {
   "cell_type": "code",
   "execution_count": null,
   "metadata": {},
   "outputs": [],
   "source": []
  }
 ],
 "metadata": {
  "kernelspec": {
   "display_name": "Python 3",
   "language": "python",
   "name": "python3"
  },
  "language_info": {
   "codemirror_mode": {
    "name": "ipython",
    "version": 3
   },
   "file_extension": ".py",
   "mimetype": "text/x-python",
   "name": "python",
   "nbconvert_exporter": "python",
   "pygments_lexer": "ipython3",
   "version": "3.8.3"
  }
 },
 "nbformat": 4,
 "nbformat_minor": 4
}
